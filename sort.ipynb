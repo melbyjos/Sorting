{
 "cells": [
  {
   "cell_type": "markdown",
   "metadata": {},
   "source": [
    "# Sorting algorithms\n",
    "\n",
    "### Joseph Melby, 2023"
   ]
  },
  {
   "cell_type": "markdown",
   "metadata": {},
   "source": [
    "This is just me playing around with implementations of various sorting algorithms from scratch for\n",
    "my own practice. These are all run on a tiny array of 8 integers as well as arrays of 1,000 and\n",
    "20,000 integers between 0 and 50,000.\n",
    "\n",
    "These implementations are based on various sources/coursework, as well as the tutorial found at: \n",
    "https://realpython.com/sorting-algorithms-python/#the-timsort-algorithm-in-python"
   ]
  },
  {
   "cell_type": "code",
   "execution_count": 1,
   "metadata": {},
   "outputs": [],
   "source": [
    "import time\n",
    "import numpy as np\n",
    "from copy import copy\n",
    "from random import randint"
   ]
  },
  {
   "cell_type": "code",
   "execution_count": 2,
   "metadata": {},
   "outputs": [],
   "source": [
    "# Simple array for testing various sorting algorithms\n",
    "arr = [2, 12, 4, 21, 5, 6, 1, 8]\n",
    "\n",
    "# Larger arrays for comparing computation times of these algos\n",
    "arr1 = np.random.randint(0, 50000, size = 1000)\n",
    "\n",
    "arr2 = np.random.randint(0, 50000, size = 20000)"
   ]
  },
  {
   "cell_type": "markdown",
   "metadata": {},
   "source": [
    "### Bubble Sort\n",
    "\n",
    "Compares adjacent elements i and i+1 of an n-element array and swaps them if the i-th element is larger\n",
    "than the i+1-th element. After iterating through at most n times, the result is an array of\n",
    "non-decreasing elements. Takes O(n^2) at worst and O(n) at best."
   ]
  },
  {
   "cell_type": "code",
   "execution_count": 3,
   "metadata": {},
   "outputs": [],
   "source": [
    "def bubbleSort(arr, p = False):\n",
    "\n",
    "    # Make a copy of the array\n",
    "    arr_copy = copy(arr)\n",
    "\n",
    "    # Indicator to tell whether the array is sorted during the loop\n",
    "    already_sorted = True\n",
    "\n",
    "    n = len(arr_copy)\n",
    "\n",
    "    # Loop through the elements of the array\n",
    "    for i in range(n):\n",
    "        for j in range(n-i-1):\n",
    "            # Check that each pair of adjacent elements are in the correct order and switch them\n",
    "            # when they are not\n",
    "            if arr_copy[j] > arr_copy[j+1]:\n",
    "                arr_copy[j], arr_copy[j+1] = arr_copy[j+1], arr_copy[j]\n",
    "            \n",
    "            # Since we had to make a switch, set the sorted indicator to false. This way the\n",
    "            # loop will continue\n",
    "            already_sorted = False\n",
    "\n",
    "        # If there are no swaps to make during the last iteration, then we can end the loop\n",
    "        if already_sorted:\n",
    "            break\n",
    "\n",
    "    # Option to print the sorted array\n",
    "    if p:\n",
    "        print(arr_copy)\n",
    "    \n",
    "    return arr_copy"
   ]
  },
  {
   "cell_type": "code",
   "execution_count": 4,
   "metadata": {},
   "outputs": [
    {
     "name": "stdout",
     "output_type": "stream",
     "text": [
      "[1, 2, 4, 5, 6, 8, 12, 21]\n",
      "0.001116037368774414\n",
      "0.6019158363342285\n",
      "151.45263481140137\n"
     ]
    }
   ],
   "source": [
    "t_0 = time.time()\n",
    "new_arr = bubbleSort(arr, p = True)\n",
    "t_1 = time.time() - t_0\n",
    "print(t_1)\n",
    "\n",
    "t_0 = time.time()\n",
    "new_arr1 = bubbleSort(arr1)\n",
    "t_1 = time.time() - t_0\n",
    "print(t_1)\n",
    "\n",
    "t_0 = time.time()\n",
    "new_arr2 = bubbleSort(arr2)\n",
    "t_1 = time.time() - t_0\n",
    "print(t_1)"
   ]
  },
  {
   "cell_type": "markdown",
   "metadata": {},
   "source": [
    "### Selection Sort\n",
    "\n",
    "Maintains subarrays of sorted and unsorted elements and searches the unsorted subarray for the\n",
    "minimum element in order to be placed in the sorted subarray through each iteration. Complexity of\n",
    "O(n^2) at worst, but more efficient than bubble sort."
   ]
  },
  {
   "cell_type": "code",
   "execution_count": 5,
   "metadata": {},
   "outputs": [],
   "source": [
    "def selectionSort(arr, p = False):\n",
    "\n",
    "    # Make a copy of the array\n",
    "    arr_copy = copy(arr)\n",
    "\n",
    "    n = len(arr_copy)\n",
    "\n",
    "    # Loop through the array\n",
    "    for s in range(n):\n",
    "        # Keep track of the index of the minimal element\n",
    "        min_id = s\n",
    "\n",
    "        # Loop through the unordered subarray\n",
    "        for i in range(s + 1, n):\n",
    "            if arr_copy[i] < arr_copy[min_id]:\n",
    "                min_id = i\n",
    "        # place minimal element at the correct position\n",
    "        arr_copy[s], arr_copy[min_id] = arr_copy[min_id], arr_copy[s]\n",
    "        \n",
    "\n",
    "    # Option to print the sorted array\n",
    "    if p:\n",
    "        print(arr)\n",
    "\n",
    "    return arr_copy\n"
   ]
  },
  {
   "cell_type": "code",
   "execution_count": 6,
   "metadata": {},
   "outputs": [
    {
     "name": "stdout",
     "output_type": "stream",
     "text": [
      "[2, 12, 4, 21, 5, 6, 1, 8]\n",
      "0.02200150489807129\n",
      "0.18300986289978027\n",
      "70.91568350791931\n"
     ]
    }
   ],
   "source": [
    "t_0 = time.time()\n",
    "new_arr = selectionSort(arr, p = True)\n",
    "t_1 = time.time() - t_0\n",
    "print(t_1)\n",
    "\n",
    "t_0 = time.time()\n",
    "new_arr1 = selectionSort(arr1)\n",
    "t_1 = time.time() - t_0\n",
    "print(t_1)\n",
    "\n",
    "t_0 = time.time()\n",
    "new_arr2 = selectionSort(arr2)\n",
    "t_1 = time.time() - t_0\n",
    "print(t_1)"
   ]
  },
  {
   "cell_type": "markdown",
   "metadata": {},
   "source": [
    "### Insertion Sort\n",
    "\n",
    "Maintain a sorted subarray of elements that are compared to every other element, and elements from\n",
    "the unsorted subarray are placed in their correct positions as you iterate through the array. More\n",
    "efficient in practice than bubble or selection sort since it makes fewer comparisons overall.\n",
    "Complexity of O(n^2) at worst and O(n) at best."
   ]
  },
  {
   "cell_type": "code",
   "execution_count": 7,
   "metadata": {},
   "outputs": [],
   "source": [
    "def insertionSort(arr, p = False):\n",
    "\n",
    "    # Make a copy of the array\n",
    "    arr_copy = copy(arr)\n",
    "    \n",
    "    n = len(arr_copy)\n",
    "\n",
    "    # Start the loop at the second element of the array up until the final element\n",
    "    for i in range(1, n):\n",
    "\n",
    "        # grab i-th element of the array for comparison to other elements\n",
    "        a = arr_copy[i]\n",
    "\n",
    "        j = i-1\n",
    "\n",
    "        while j >= 0 and a < arr_copy[j]:\n",
    "            # Move all elements one unit ahead of current position\n",
    "            arr_copy[j + 1] = arr_copy[j]\n",
    "            j = j - 1\n",
    "\n",
    "        # Insert i-th element into spot left empty by moving other elements\n",
    "        arr_copy[j + 1] = a\n",
    "\n",
    "    if p:\n",
    "        print(arr_copy)\n",
    "\n",
    "    return arr_copy"
   ]
  },
  {
   "cell_type": "code",
   "execution_count": 8,
   "metadata": {},
   "outputs": [
    {
     "name": "stdout",
     "output_type": "stream",
     "text": [
      "0.0\n",
      "0.13099932670593262\n",
      "50.653772592544556\n"
     ]
    }
   ],
   "source": [
    "t_0 = time.time()\n",
    "new_arr = insertionSort(arr)\n",
    "t_1 = time.time() - t_0\n",
    "print(t_1)\n",
    "\n",
    "t_0 = time.time()\n",
    "new_arr1 = insertionSort(arr1)\n",
    "t_1 = time.time() - t_0\n",
    "print(t_1)\n",
    "\n",
    "t_0 = time.time()\n",
    "new_arr2 = insertionSort(arr2)\n",
    "t_1 = time.time() - t_0\n",
    "print(t_1)"
   ]
  },
  {
   "cell_type": "markdown",
   "metadata": {},
   "source": [
    "### Merge Sort\n",
    "\n",
    "Splits input array into two halves, sorts each recursively, and then the resulting arrays are\n",
    "combined into a single sorted array. Using a divide-and-conquer procedure, this algorithm has\n",
    "complexity O(n log n). In particular, the merge() function has linear runtime and is called after each\n",
    "halving operation, the total of which is log_2(n) operations. \n",
    "\n",
    "This algorithm is considerably faster\n",
    "than the above sorting algorithms for large arrays, but on smaller ones, bubble, selection, and\n",
    "insertion generally perform better. In addition, it uses a lot more space than the other in-place\n",
    "sorting algorithms since it creates a new list in every merge() call and creates copies of itself\n",
    "in the recursive call."
   ]
  },
  {
   "cell_type": "code",
   "execution_count": 9,
   "metadata": {},
   "outputs": [],
   "source": [
    "# Function to merge two arrays together\n",
    "def merge(left, right):\n",
    "\n",
    "    # First check that the left/right array is not empty. If it is, we can just return the\n",
    "    # right/left array\n",
    "    if len(left) == 0:\n",
    "        return right\n",
    "    \n",
    "    if len(right) == 0:\n",
    "        return left\n",
    "    \n",
    "    result = []\n",
    "    index_left = 0\n",
    "    index_right = 0\n",
    "\n",
    "    # Loop through both arrays to fill the new array\n",
    "    while len(result) < len(left) + len(right):\n",
    "\n",
    "        # Add whichever element is smaller to the new array by comparing the elements of the left\n",
    "        # and right arrays\n",
    "        if left[index_left] <= right[index_right]:\n",
    "            result.append(left[index_left])\n",
    "            index_left += 1\n",
    "\n",
    "        else:\n",
    "            result.append(right[index_right])\n",
    "            index_right += 1\n",
    "\n",
    "        # If we clear either array, then we can just add the remainder of the nonempty array to the\n",
    "        # new combined array\n",
    "        if index_right == len(right):\n",
    "            result += left[index_left:]\n",
    "            break\n",
    "        if index_left == len(left):\n",
    "            result += right[index_right:]\n",
    "            break\n",
    "\n",
    "    return result\n",
    "    \n",
    "\n",
    "def mergeSort(arr):\n",
    "\n",
    "    # Make a copy of the input array so it is not changed\n",
    "    arr_copy = copy(arr)\n",
    "\n",
    "    # Since we will be calling this function recursively, this base case will avoid a \"max recursion\n",
    "    # depth exceeded\" error\n",
    "    if len(arr_copy) < 2:\n",
    "        return arr_copy\n",
    "    \n",
    "    #get index of midpoint\n",
    "    mid = len(arr_copy) // 2\n",
    "\n",
    "    #Sort recursively by splitting into two halves, sorting them, and using the merge function to\n",
    "    #combine them\n",
    "    return merge(left = mergeSort(arr_copy[:mid]), \n",
    "                 right = mergeSort(arr_copy[mid:]))\n"
   ]
  },
  {
   "cell_type": "code",
   "execution_count": 10,
   "metadata": {},
   "outputs": [
    {
     "name": "stdout",
     "output_type": "stream",
     "text": [
      "0.0\n",
      "0.3664531707763672\n",
      "0.3393876552581787\n"
     ]
    }
   ],
   "source": [
    "t_0 = time.time()\n",
    "new_arr = mergeSort(arr)\n",
    "t_1 = time.time() - t_0\n",
    "print(t_1)\n",
    "\n",
    "t_0 = time.time()\n",
    "new_arr1 = mergeSort(arr1)\n",
    "t_1 = time.time() - t_0\n",
    "print(t_1)\n",
    "\n",
    "t_0 = time.time()\n",
    "new_arr2 = mergeSort(arr2)\n",
    "t_1 = time.time() - t_0\n",
    "print(t_1)"
   ]
  },
  {
   "cell_type": "markdown",
   "metadata": {},
   "source": [
    "### Quicksort\n",
    "\n",
    "A pivot is chosen, and every element smaller than the pivot is placed in one list and every larger\n",
    "element in another list, resulting in the pivot being in its correct spot in the sorted list. This\n",
    "procedure is then applied recursively to the low and high lists. \n",
    "\n",
    "The algorithm's efficiency depends on the choice of pivot. Ideally, choosing the median as the pivot\n",
    "every time will always result in evenly split low and high lists, giving a best-case of log_2(n)\n",
    "recursion levels. However, choosing the min or max element as the pivot every time results in the\n",
    "most uneven split each time, with a worst case of n-1 recursion levels. \n",
    "\n",
    "The partition process is done in O(n) time, and choosing the median can be done in O(n), so the best\n",
    "case total complexity is O(n log_2(n)) and its worst is O(n^2).\n",
    "\n",
    "Quicksort tends to perform better than most other sorting algorithms in practice, but the main issue\n",
    "is that there is no guarantee that it will achieve the average runtime of O(n log_2(n)). In\n",
    "addition, it takes up memory space since it is storing the low and high lists at every recursion\n",
    "level, similarly to merge sort. "
   ]
  },
  {
   "cell_type": "code",
   "execution_count": 11,
   "metadata": {},
   "outputs": [],
   "source": [
    "def quickSort(arr):\n",
    "        \n",
    "    # Make a copy of the input array so it is not changed\n",
    "    arr_copy = copy(arr)\n",
    "\n",
    "    # Since we will be calling this function recursively, this base case will avoid a \"max recursion\n",
    "    # depth exceeded\" error\n",
    "    if len(arr_copy) < 2:\n",
    "        return arr_copy\n",
    "    \n",
    "    # Initialize our lists\n",
    "    low, same, high = [], [], []\n",
    "\n",
    "    # Choose a pivot \n",
    "    # Ideally, this is always the median of the array, but let's just choose randomly here\n",
    "    pivot = arr_copy[randint(0, len(arr_copy) - 1)]\n",
    "\n",
    "    for item in arr_copy:\n",
    "        if item < pivot:\n",
    "            low.append(item)\n",
    "        elif item == pivot:\n",
    "            same.append(item)\n",
    "        else:\n",
    "            high.append(item)\n",
    "\n",
    "    # Recursive call on the smaller lists\n",
    "    return quickSort(low) + same + quickSort(high)\n"
   ]
  },
  {
   "cell_type": "code",
   "execution_count": 12,
   "metadata": {},
   "outputs": [
    {
     "name": "stdout",
     "output_type": "stream",
     "text": [
      "0.1309967041015625\n",
      "0.09100079536437988\n",
      "0.3664212226867676\n"
     ]
    }
   ],
   "source": [
    "t_0 = time.time()\n",
    "new_arr = quickSort(arr)\n",
    "t_1 = time.time() - t_0\n",
    "print(t_1)\n",
    "\n",
    "t_0 = time.time()\n",
    "new_arr1 = quickSort(arr1)\n",
    "t_1 = time.time() - t_0\n",
    "print(t_1)\n",
    "\n",
    "t_0 = time.time()\n",
    "new_arr2 = quickSort(arr2)\n",
    "t_1 = time.time() - t_0\n",
    "print(t_1)"
   ]
  },
  {
   "cell_type": "markdown",
   "metadata": {},
   "source": [
    "### TimSort\n",
    "\n",
    "This is a combination of merge and insertion sort, and it was designed as the standard Python\n",
    "sorting algorithm. It takes advantage of the already-sorted portions of the array. \n",
    "\n",
    "Like merge and quick sort, it has an average time complexity of O(n log_2(n)), with the log part\n",
    "coming from doubling the size of the run and the linear portion coming from the merge operation. It\n",
    "is more efficient to merge two already-sorted lists, so it has a best case runtime of O(n),\n",
    "especially on close-to-sorted lists. This beats out merge sort and matches the best case for\n",
    "quicksort, but its worst case is better at O(n log_2(n))."
   ]
  },
  {
   "cell_type": "code",
   "execution_count": 13,
   "metadata": {},
   "outputs": [],
   "source": [
    "def insertionLRSort(arr, left = 0, right = None):\n",
    "\n",
    "    # Make a copy of the array\n",
    "    arr_copy = copy(arr)\n",
    "    \n",
    "    n = len(arr_copy)\n",
    "\n",
    "    # Start the loop at the element after the left index and loop until the element at the right\n",
    "    # index\n",
    "    for i in range(left + 1, right + 1):\n",
    "\n",
    "        # grab i-th element of the array for comparison to other elements\n",
    "        a = arr_copy[i]\n",
    "\n",
    "        j = i - 1\n",
    "\n",
    "        while j >= left and a < arr_copy[j]:\n",
    "            # Move all elements one unit ahead of current position\n",
    "            arr_copy[j + 1] = arr_copy[j]\n",
    "            j = j - 1\n",
    "\n",
    "        # Insert i-th element into spot left empty by moving other elements\n",
    "        arr_copy[j + 1] = a\n",
    "\n",
    "    return arr_copy\n",
    "\n",
    "def TimSort(arr, min_run = 32):\n",
    "\n",
    "    # Make a copy of the array\n",
    "    arr_copy = copy(arr)\n",
    "\n",
    "    n = len(arr_copy)\n",
    "\n",
    "    if n < min_run:\n",
    "        min_run = 1\n",
    "\n",
    "    # Divide and sort slices of array defined by min_run\n",
    "    for i in range(0, n, min_run):\n",
    "        insertionLRSort(arr_copy, i, min((i + min_run - 1), n - 1))\n",
    "\n",
    "    # Now we can merge these sorted sections back together\n",
    "\n",
    "    size = min_run\n",
    "    while size < n:\n",
    "        # Determine which arrays to merge\n",
    "        for start in range(0, n, size*2):\n",
    "            # Find the midpoint where the first array ends and the second starts\n",
    "            # and the endpoint where the second array ends\n",
    "            mid = start + size - 1\n",
    "            end = min((start + size*2 - 1), n - 1)\n",
    "\n",
    "            merged_arr = merge(left = arr_copy[start : mid + 1],\n",
    "                               right = arr_copy[mid + 1 : end + 1])\n",
    "            \n",
    "            # place merged array in its correct place in the original array\n",
    "            arr_copy[start : start + len(merged_arr)] = merged_arr\n",
    "        \n",
    "        # Each iteration doubles the size\n",
    "        size *= 2\n",
    "    \n",
    "    return arr_copy\n"
   ]
  },
  {
   "cell_type": "code",
   "execution_count": 14,
   "metadata": {},
   "outputs": [
    {
     "name": "stdout",
     "output_type": "stream",
     "text": [
      "0.0011510848999023438\n",
      "0.039846181869506836\n",
      "0.2805936336517334\n"
     ]
    }
   ],
   "source": [
    "t_0 = time.time()\n",
    "new_arr = quickSort(arr)\n",
    "t_1 = time.time() - t_0\n",
    "print(t_1)\n",
    "\n",
    "t_0 = time.time()\n",
    "new_arr1 = quickSort(arr1)\n",
    "t_1 = time.time() - t_0\n",
    "print(t_1)\n",
    "\n",
    "t_0 = time.time()\n",
    "new_arr2 = quickSort(arr2)\n",
    "t_1 = time.time() - t_0\n",
    "print(t_1)"
   ]
  }
 ],
 "metadata": {
  "kernelspec": {
   "display_name": "base",
   "language": "python",
   "name": "python3"
  },
  "language_info": {
   "codemirror_mode": {
    "name": "ipython",
    "version": 3
   },
   "file_extension": ".py",
   "mimetype": "text/x-python",
   "name": "python",
   "nbconvert_exporter": "python",
   "pygments_lexer": "ipython3",
   "version": "3.10.9"
  }
 },
 "nbformat": 4,
 "nbformat_minor": 2
}
